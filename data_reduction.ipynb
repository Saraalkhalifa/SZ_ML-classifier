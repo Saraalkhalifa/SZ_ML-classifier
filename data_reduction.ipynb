{
  "cells": [
    {
      "cell_type": "markdown",
      "metadata": {
        "id": "view-in-github",
        "colab_type": "text"
      },
      "source": [
        "<a href=\"https://colab.research.google.com/github/Saraalkhalifa/SZ_ML-classifier/blob/main/data_reduction.ipynb\" target=\"_parent\"><img src=\"https://colab.research.google.com/assets/colab-badge.svg\" alt=\"Open In Colab\"/></a>"
      ]
    },
    {
      "cell_type": "code",
      "execution_count": null,
      "metadata": {
        "colab": {
          "base_uri": "https://localhost:8080/"
        },
        "id": "5GrLVnObYSLH",
        "outputId": "2a311a27-82b9-44ad-f854-9673e498c364"
      },
      "outputs": [
        {
          "name": "stdout",
          "output_type": "stream",
          "text": [
            "Mounted at /content/drive\n"
          ]
        }
      ],
      "source": [
        "from google.colab import drive\n",
        "drive.mount('/content/drive')"
      ]
    },
    {
      "cell_type": "markdown",
      "source": [
        "# **Importing the libraries**"
      ],
      "metadata": {
        "id": "bIsKPhWf5yYb"
      }
    },
    {
      "cell_type": "code",
      "execution_count": null,
      "metadata": {
        "id": "LWBJrmv0jUpe"
      },
      "outputs": [],
      "source": [
        "import pandas as pd\n",
        "import numpy as np\n",
        "from sklearn.model_selection import train_test_split\n",
        "from sklearn.tree import DecisionTreeClassifier\n",
        "from sklearn.metrics import accuracy_score\n",
        "from sklearn.impute import SimpleImputer\n",
        "import copy"
      ]
    },
    {
      "cell_type": "markdown",
      "source": [
        "# **Importing the dataset**\n"
      ],
      "metadata": {
        "id": "2qAe9FcP54_d"
      }
    },
    {
      "cell_type": "code",
      "execution_count": null,
      "metadata": {
        "id": "Nkeio7c_jVmO"
      },
      "outputs": [],
      "source": [
        "# Load your CSV data into a pandas DataFrame\n",
        "data = pd.read_csv('/content/drive/MyDrive/al/data/rs22.csv')"
      ]
    },
    {
      "cell_type": "markdown",
      "metadata": {
        "id": "RQYob9acE1rC"
      },
      "source": [
        "# **incremental removal**"
      ]
    },
    {
      "cell_type": "code",
      "execution_count": null,
      "metadata": {
        "id": "niVA2fk1Awwy"
      },
      "outputs": [],
      "source": [
        "target_column = ' group'"
      ]
    },
    {
      "cell_type": "code",
      "execution_count": null,
      "metadata": {
        "id": "Omh5TapAK_nu"
      },
      "outputs": [],
      "source": [
        "# Drop rows with NaN values in the target column\n",
        "data = data.dropna(subset=[target_column])"
      ]
    },
    {
      "cell_type": "code",
      "execution_count": null,
      "metadata": {
        "id": "pF7qYfbsIGPZ"
      },
      "outputs": [],
      "source": [
        "X = data.drop(target_column, axis=1)\n",
        "y = data[target_column]"
      ]
    },
    {
      "cell_type": "code",
      "execution_count": null,
      "metadata": {
        "id": "EkS86do0BPaY"
      },
      "outputs": [],
      "source": [
        "# Function to calculate Entropy for a column\n",
        "def calculate_entropy(column_values):\n",
        "    # Implementation of entropy calculation\n",
        "    total_samples = len(column_values)\n",
        "    entropy = 0\n",
        "    values = column_values.value_counts()\n",
        "    for value in values:\n",
        "        proportion = value / total_samples\n",
        "        entropy -= proportion * np.log2(proportion)\n",
        "    return entropy"
      ]
    },
    {
      "cell_type": "code",
      "execution_count": null,
      "metadata": {
        "colab": {
          "base_uri": "https://localhost:8080/"
        },
        "id": "evF-GnLxAN36",
        "outputId": "81c436cb-8423-40c3-c4fd-a129dc222c87"
      },
      "outputs": [
        {
          "name": "stdout",
          "output_type": "stream",
          "text": [
            "Removed column: rejected | Accuracy: 0.9962484368486869\n",
            "Removed column:  gender | Accuracy: 0.995831596498541\n",
            "Removed column: condition | Accuracy: 0.9868695289704044\n",
            "Removed column:  education | Accuracy: 0.976240100041684\n",
            "Removed column:  age | Accuracy: 0.921634014172572\n",
            "Removed column: ITI | Accuracy: 0.9301792413505627\n",
            "Removed column: time_ms | Accuracy: 0.8672363484785327\n",
            "Removed column: FC3_B0 | Accuracy: 0.8666110879533139\n",
            "Removed column: C3_B0 | Accuracy: 0.8649437265527303\n",
            "Removed column: CP3_B0 | Accuracy: 0.8674447686536056\n",
            "Removed column: C4_B0 | Accuracy: 0.8680700291788245\n",
            "Removed column: CP4_B0 | Accuracy: 0.8726552730304293\n",
            "Removed column: FC4_B0 | Accuracy: 0.8718215923301376\n",
            "Removed column: Fz_B0 | Accuracy: 0.8666110879533139\n",
            "Removed column: FCz_B0 | Accuracy: 0.8697373905794081\n",
            "Removed column: Cz_B0 | Accuracy: 0.8770320967069613\n",
            "Removed column: CP3_N100 | Accuracy: 0.8751563151313048\n",
            "Removed column: Fz_N100 | Accuracy: 0.8724468528553564\n",
            "Removed column: FC4_N100 | Accuracy: 0.8734889537307211\n",
            "Removed column: C4_N100 | Accuracy: 0.8728636932055023\n",
            "Removed column: CP4_N100 | Accuracy: 0.8759899958315965\n",
            "Removed column: FC3_N100 | Accuracy: 0.8774489370571071\n",
            "Removed column: FCz_N100 | Accuracy: 0.8759899958315965\n",
            "Removed column: C3_N100 | Accuracy: 0.8768236765318883\n",
            "Removed column: Cz_N100 | Accuracy: 0.8768236765318883\n",
            "Removed column: Cz_P200 | Accuracy: 0.873697373905794\n",
            "Removed column: C4_P200 | Accuracy: 0.8803668195081283\n",
            "Removed column: Fz_P200 | Accuracy: 0.8772405168820342\n",
            "Removed column: FC3_P200 | Accuracy: 0.8774489370571071\n",
            "Removed column: CP4_P200 | Accuracy: 0.878074197582326\n",
            "Removed column: C3_P200 | Accuracy: 0.8839099624843685\n",
            "Removed column: FCz_P200 | Accuracy: 0.8801583993330554\n",
            "Removed column: FC4_P200 | Accuracy: 0.8826594414339308\n",
            "Removed column: CP3_P200 | Accuracy: 0.8841183826594414\n",
            "Removed column: CP3_B1 | Accuracy: 0.8880783659858275\n",
            "Removed column: FC3_B1 | Accuracy: 0.8891204668611922\n",
            "Removed column: Fz_B1 | Accuracy: 0.8868278449353898\n",
            "Removed column: Cz_B1 | Accuracy: 0.8907878282617757\n",
            "Removed column: C4_B1 | Accuracy: 0.8872446852855357\n",
            "Removed column: FCz_B1 | Accuracy: 0.8899541475614839\n",
            "Removed column: C3_B1 | Accuracy: 0.8887036265110463\n",
            "Removed column: FC4_B1 | Accuracy: 0.8924551896623594\n",
            "Removed column: CP4_B1 | Accuracy: 0.9010004168403501\n",
            "Removed column: C4 | Accuracy: 0.8866194247603167\n",
            "Removed column: CP4 | Accuracy: 0.8749478949562317\n",
            "Removed column: FC3 | Accuracy: 0.8647353063776574\n",
            "Removed column: FC4 | Accuracy: 0.822842851187995\n",
            "Removed column: Fz | Accuracy: 0.7926219258024176\n",
            "Removed column: C3 | Accuracy: 0.7219674864526886\n",
            "Removed column: FCz | Accuracy: 0.6469362234264276\n",
            "Removed column: CP3 | Accuracy: 0.5883701542309295\n"
          ]
        }
      ],
      "source": [
        "# Initialize dictionaries to store accuracy information\n",
        "column_accuracy = {}\n",
        "impact_on_accuracy = {}\n",
        "\n",
        "while len(X.columns) > 1:  # Continue until only one column is left\n",
        "    entropy_scores = {}\n",
        "\n",
        "    # Calculate Entropy for each column\n",
        "    for column in X.columns:\n",
        "        entropy_scores[column] = calculate_entropy(X[column])\n",
        "\n",
        "    # Identify column with the lowest Entropy\n",
        "    min_entropy_column = min(entropy_scores, key=entropy_scores.get)\n",
        "\n",
        "    # Remove column with the lowest Entropy\n",
        "    X.drop(min_entropy_column, axis=1, inplace=True)\n",
        "\n",
        "    # Handle missing values in the dataset\n",
        "    imputer = SimpleImputer(strategy='mean')  # You can use other strategies as needed\n",
        "    X_imputed = imputer.fit_transform(X)\n",
        "\n",
        "    # Train a model and evaluate accuracy\n",
        "    X_train, X_test, y_train, y_test = train_test_split(X_imputed, y, test_size=0.2, random_state=42)\n",
        "\n",
        "    # Handle NaN values in y_train\n",
        "    y_train = y_train.dropna()\n",
        "\n",
        "    clf = DecisionTreeClassifier()  # You can use any model of your choice\n",
        "    clf.fit(X_train, y_train)\n",
        "    y_pred = clf.predict(X_test)\n",
        "    accuracy = accuracy_score(y_test, y_pred)\n",
        "\n",
        "    # Display information\n",
        "    print(f\"Removed column: {min_entropy_column} | Accuracy: {accuracy}\")\n",
        "\n",
        "    # Store the accuracy impact after removing the column\n",
        "    column_accuracy[min_entropy_column] = accuracy"
      ]
    },
    {
      "cell_type": "code",
      "execution_count": null,
      "metadata": {
        "colab": {
          "base_uri": "https://localhost:8080/"
        },
        "id": "6KalDh-FNmx0",
        "outputId": "8bc76195-7152-42cf-fc93-14c2ca3e55fa"
      },
      "outputs": [
        {
          "name": "stdout",
          "output_type": "stream",
          "text": [
            "Final column remaining: Index(['Cz'], dtype='object')\n"
          ]
        }
      ],
      "source": [
        "# Final dataset with one column remaining\n",
        "print(\"Final column remaining:\", X.columns)"
      ]
    },
    {
      "cell_type": "markdown",
      "metadata": {
        "id": "JaVPh9YyE60k"
      },
      "source": [
        "# **One feature-out experiment**"
      ]
    },
    {
      "cell_type": "code",
      "execution_count": null,
      "metadata": {
        "id": "yaXdpMZqAQBM"
      },
      "outputs": [],
      "source": [
        "data.dropna(subset=[data.columns[-1]], inplace=True)"
      ]
    },
    {
      "cell_type": "code",
      "execution_count": null,
      "metadata": {
        "id": "eV1hFFe5jeGx"
      },
      "outputs": [],
      "source": [
        "# Assuming the last column is the target variable and the rest are features\n",
        "X = data.iloc[:, :-1]  # Features\n",
        "y = data.iloc[:, -1]   # Target variable"
      ]
    },
    {
      "cell_type": "code",
      "execution_count": null,
      "metadata": {
        "colab": {
          "background_save": true
        },
        "id": "XsK5gq53E-tW",
        "outputId": "d2bb2195-2a6f-4a83-fe50-b574330ecb7c"
      },
      "outputs": [
        {
          "name": "stdout",
          "output_type": "stream",
          "text": [
            "Accuracy with each column removed:\n",
            "Removed column 'condition': Accuracy = 0.9908295122967903\n",
            "Removed column 'Fz': Accuracy = 0.9970821175489787\n",
            "Removed column 'FCz': Accuracy = 0.9952063359733222\n",
            "Removed column 'Cz': Accuracy = 0.9949979157982493\n",
            "Removed column 'FC3': Accuracy = 0.9952063359733222\n",
            "Removed column 'FC4': Accuracy = 0.9987494789495623\n",
            "Removed column 'C3': Accuracy = 0.9952063359733222\n",
            "Removed column 'C4': Accuracy = 0.996040016673614\n",
            "Removed column 'CP3': Accuracy = 0.9954147561483951\n",
            "Removed column 'CP4': Accuracy = 0.9954147561483951\n",
            "Removed column 'time_ms': Accuracy = 0.9966652771988328\n",
            "Removed column 'ITI': Accuracy = 0.9945810754481034\n",
            "Removed column 'rejected': Accuracy = 0.9954147561483951\n",
            "Removed column 'Fz_N100': Accuracy = 0.9947894956231763\n",
            "Removed column 'FCz_N100': Accuracy = 0.9949979157982493\n",
            "Removed column 'Cz_N100': Accuracy = 0.9949979157982493\n",
            "Removed column 'FC3_N100': Accuracy = 0.9949979157982493\n",
            "Removed column 'FC4_N100': Accuracy = 0.9949979157982493\n",
            "Removed column 'C3_N100': Accuracy = 0.9949979157982493\n",
            "Removed column 'C4_N100': Accuracy = 0.9952063359733222\n",
            "Removed column 'CP3_N100': Accuracy = 0.9952063359733222\n",
            "Removed column 'CP4_N100': Accuracy = 0.9952063359733222\n",
            "Removed column 'Fz_P200': Accuracy = 0.9952063359733222\n",
            "Removed column 'FCz_P200': Accuracy = 0.9949979157982493\n",
            "Removed column 'Cz_P200': Accuracy = 0.9952063359733222\n",
            "Removed column 'FC3_P200': Accuracy = 0.9952063359733222\n",
            "Removed column 'FC4_P200': Accuracy = 0.9952063359733222\n",
            "Removed column 'C3_P200': Accuracy = 0.9952063359733222\n",
            "Removed column 'C4_P200': Accuracy = 0.9949979157982493\n",
            "Removed column 'CP3_P200': Accuracy = 0.9949979157982493\n",
            "Removed column 'CP4_P200': Accuracy = 0.9956231763234681\n",
            "Removed column 'Fz_B0': Accuracy = 0.9949979157982493\n",
            "Removed column 'FCz_B0': Accuracy = 0.9949979157982493\n",
            "Removed column 'Cz_B0': Accuracy = 0.9949979157982493\n",
            "Removed column 'FC3_B0': Accuracy = 0.9949979157982493\n",
            "Removed column 'FC4_B0': Accuracy = 0.995831596498541\n",
            "Removed column 'C3_B0': Accuracy = 0.9949979157982493\n",
            "Removed column 'C4_B0': Accuracy = 0.9949979157982493\n",
            "Removed column 'CP3_B0': Accuracy = 0.9947894956231763\n",
            "Removed column 'CP4_B0': Accuracy = 0.9949979157982493\n",
            "Removed column 'Fz_B1': Accuracy = 0.9949979157982493\n",
            "Removed column 'FCz_B1': Accuracy = 0.9949979157982493\n",
            "Removed column 'Cz_B1': Accuracy = 0.9949979157982493\n",
            "Removed column 'FC3_B1': Accuracy = 0.9949979157982493\n",
            "Removed column 'FC4_B1': Accuracy = 0.9949979157982493\n",
            "Removed column 'C3_B1': Accuracy = 0.9949979157982493\n",
            "Removed column 'C4_B1': Accuracy = 0.9952063359733222\n",
            "Removed column 'CP3_B1': Accuracy = 0.9952063359733222\n",
            "Removed column 'CP4_B1': Accuracy = 0.9949979157982493\n",
            "Removed column ' gender': Accuracy = 0.9956231763234681\n",
            "Removed column ' age': Accuracy = 0.9870779491454773\n",
            "Removed column ' education': Accuracy = 0.9824927052938724\n"
          ]
        }
      ],
      "source": [
        "# Function to calculate accuracy after removing each column\n",
        "def calculate_accuracy_with_removal(X, y):\n",
        "    initial_accuracy = 0\n",
        "    max_accuracy = 0\n",
        "    best_column = None\n",
        "    accuracies = {}\n",
        "\n",
        "    for col in X.columns:\n",
        "        X_temp = X.drop(col, axis=1)\n",
        "\n",
        "        # Impute missing values\n",
        "        imputer = SimpleImputer(strategy='mean')\n",
        "        X_temp = pd.DataFrame(imputer.fit_transform(X_temp), columns=X_temp.columns)\n",
        "\n",
        "        X_train, X_test, y_train, y_test = train_test_split(X_temp, y, test_size=0.2, random_state=42)\n",
        "        clf = DecisionTreeClassifier(random_state=42)\n",
        "        clf.fit(X_train, y_train)\n",
        "        y_pred = clf.predict(X_test)\n",
        "\n",
        "        acc = accuracy_score(y_test, y_pred)\n",
        "        accuracies[col] = acc\n",
        "\n",
        "        if acc > initial_accuracy:\n",
        "            initial_accuracy = acc\n",
        "            best_column = col\n",
        "\n",
        "    return accuracies, best_column, initial_accuracy\n",
        "\n",
        "# Calculate accuracy by removing one column at a time\n",
        "accuracies, best_col, max_accuracy = calculate_accuracy_with_removal(X, y)\n",
        "\n",
        "print(\"Accuracy with each column removed:\")\n",
        "for col, acc in accuracies.items():\n",
        "    print(f\"Removed column '{col}': Accuracy = {acc}\")\n"
      ]
    },
    {
      "cell_type": "code",
      "execution_count": null,
      "metadata": {
        "colab": {
          "background_save": true
        },
        "id": "HQjpMUikFRE-",
        "outputId": "d4f550f3-9d75-473b-e25a-393c82c56e72"
      },
      "outputs": [
        {
          "name": "stdout",
          "output_type": "stream",
          "text": [
            "\n",
            "Maximum Accuracy after removing one column at a time: 0.9987494789495623 by removing 'FC4'\n"
          ]
        }
      ],
      "source": [
        "print(f\"\\nMaximum Accuracy after removing one column at a time: {max_accuracy} by removing '{best_col}'\")\n"
      ]
    },
    {
      "cell_type": "code",
      "execution_count": null,
      "metadata": {
        "colab": {
          "background_save": true
        },
        "id": "iIvWetJyqOYO",
        "outputId": "26b5e414-1a9b-4791-fa8c-d117f04eb22d"
      },
      "outputs": [
        {
          "name": "stdout",
          "output_type": "stream",
          "text": [
            "Final column remaining: Index(['condition', 'Fz', 'FCz', 'Cz', 'FC3', 'FC4', 'C3', 'C4', 'CP3', 'CP4',\n",
            "       'time_ms', 'ITI', 'rejected', 'Fz_N100', 'FCz_N100', 'Cz_N100',\n",
            "       'FC3_N100', 'FC4_N100', 'C3_N100', 'C4_N100', 'CP3_N100', 'CP4_N100',\n",
            "       'Fz_P200', 'FCz_P200', 'Cz_P200', 'FC3_P200', 'FC4_P200', 'C3_P200',\n",
            "       'C4_P200', 'CP3_P200', 'CP4_P200', 'Fz_B0', 'FCz_B0', 'Cz_B0', 'FC3_B0',\n",
            "       'FC4_B0', 'C3_B0', 'C4_B0', 'CP3_B0', 'CP4_B0', 'Fz_B1', 'FCz_B1',\n",
            "       'Cz_B1', 'FC3_B1', 'FC4_B1', 'C3_B1', 'C4_B1', 'CP3_B1', 'CP4_B1',\n",
            "       ' gender', ' age', ' education'],\n",
            "      dtype='object')\n"
          ]
        }
      ],
      "source": [
        "# Final dataset with one column remaining\n",
        "print(\"Final column remaining:\", X.columns)"
      ]
    }
  ],
  "metadata": {
    "colab": {
      "provenance": [],
      "authorship_tag": "ABX9TyNHQxdboXLKtX/1vvzydifZ",
      "include_colab_link": true
    },
    "kernelspec": {
      "display_name": "Python 3",
      "name": "python3"
    },
    "language_info": {
      "name": "python"
    }
  },
  "nbformat": 4,
  "nbformat_minor": 0
}