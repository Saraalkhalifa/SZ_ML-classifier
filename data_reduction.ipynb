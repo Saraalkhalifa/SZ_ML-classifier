{
  "cells": [
    {
      "cell_type": "code",
      "execution_count": null,
      "metadata": {
        "colab": {
          "base_uri": "https://localhost:8080/"
        },
        "id": "5GrLVnObYSLH",
        "outputId": "d2541023-0da3-4e11-8541-ee2b8920b3d2"
      },
      "outputs": [
        {
          "output_type": "stream",
          "name": "stdout",
          "text": [
            "Drive already mounted at /content/drive; to attempt to forcibly remount, call drive.mount(\"/content/drive\", force_remount=True).\n"
          ]
        }
      ],
      "source": [
        "from google.colab import drive\n",
        "drive.mount('/content/drive')"
      ]
    },
    {
      "cell_type": "code",
      "execution_count": null,
      "metadata": {
        "id": "LWBJrmv0jUpe"
      },
      "outputs": [],
      "source": [
        "import pandas as pd\n",
        "import numpy as np\n",
        "from sklearn.model_selection import train_test_split\n",
        "from sklearn.tree import DecisionTreeClassifier\n",
        "from sklearn.metrics import accuracy_score\n",
        "from sklearn.impute import SimpleImputer\n",
        "import copy"
      ]
    },
    {
      "cell_type": "code",
      "execution_count": null,
      "metadata": {
        "id": "Nkeio7c_jVmO"
      },
      "outputs": [],
      "source": [
        "# Load your CSV data into a pandas DataFrame\n",
        "data = pd.read_csv('/content/drive/MyDrive/al/data/rs22.csv')"
      ]
    },
    {
      "cell_type": "markdown",
      "metadata": {
        "id": "RQYob9acE1rC"
      },
      "source": [
        "for one each time\n"
      ]
    },
    {
      "cell_type": "code",
      "execution_count": null,
      "metadata": {
        "id": "niVA2fk1Awwy"
      },
      "outputs": [],
      "source": [
        "target_column = ' group'"
      ]
    },
    {
      "cell_type": "code",
      "execution_count": null,
      "metadata": {
        "id": "Omh5TapAK_nu"
      },
      "outputs": [],
      "source": [
        "# Drop rows with NaN values in the target column\n",
        "data = data.dropna(subset=[target_column])"
      ]
    },
    {
      "cell_type": "code",
      "execution_count": null,
      "metadata": {
        "id": "pF7qYfbsIGPZ"
      },
      "outputs": [],
      "source": [
        "X = data.drop(target_column, axis=1)\n",
        "y = data[target_column]"
      ]
    },
    {
      "cell_type": "code",
      "execution_count": null,
      "metadata": {
        "id": "EkS86do0BPaY"
      },
      "outputs": [],
      "source": [
        "# Function to calculate Entropy for a column\n",
        "def calculate_entropy(column_values):\n",
        "    # Implementation of entropy calculation\n",
        "    total_samples = len(column_values)\n",
        "    entropy = 0\n",
        "    values = column_values.value_counts()\n",
        "    for value in values:\n",
        "        proportion = value / total_samples\n",
        "        entropy -= proportion * np.log2(proportion)\n",
        "    return entropy"
      ]
    },
    {
      "cell_type": "code",
      "execution_count": null,
      "metadata": {
        "id": "evF-GnLxAN36"
      },
      "outputs": [],
      "source": [
        "# Initialize dictionaries to store accuracy information\n",
        "column_accuracy = {}\n",
        "impact_on_accuracy = {}\n",
        "\n",
        "while len(X.columns) > 1:  # Continue until only one column is left\n",
        "    entropy_scores = {}\n",
        "\n",
        "    # Calculate Entropy for each column\n",
        "    for column in X.columns:\n",
        "        entropy_scores[column] = calculate_entropy(X[column])\n",
        "\n",
        "    # Identify column with the lowest Entropy\n",
        "    min_entropy_column = min(entropy_scores, key=entropy_scores.get)\n",
        "\n",
        "    # Remove column with the lowest Entropy\n",
        "    X.drop(min_entropy_column, axis=1, inplace=True)\n",
        "\n",
        "    # Handle missing values in the dataset\n",
        "    imputer = SimpleImputer(strategy='mean')  # You can use other strategies as needed\n",
        "    X_imputed = imputer.fit_transform(X)\n",
        "\n",
        "    # Train a model and evaluate accuracy\n",
        "    X_train, X_test, y_train, y_test = train_test_split(X_imputed, y, test_size=0.2, random_state=42)\n",
        "\n",
        "    # Handle NaN values in y_train\n",
        "    y_train = y_train.dropna()\n",
        "\n",
        "    clf = DecisionTreeClassifier()  # You can use any model of your choice\n",
        "    clf.fit(X_train, y_train)\n",
        "    y_pred = clf.predict(X_test)\n",
        "    accuracy = accuracy_score(y_test, y_pred)\n",
        "\n",
        "    # Display information\n",
        "    print(f\"Removed column: {min_entropy_column} | Accuracy: {accuracy}\")\n",
        "\n",
        "    # Store the accuracy impact after removing the column\n",
        "    column_accuracy[min_entropy_column] = accuracy"
      ]
    },
    {
      "cell_type": "code",
      "execution_count": null,
      "metadata": {
        "colab": {
          "base_uri": "https://localhost:8080/"
        },
        "outputId": "caabf5b1-80ea-42fb-e27e-7ad376ad48eb",
        "id": "6KalDh-FNmx0"
      },
      "outputs": [
        {
          "output_type": "stream",
          "name": "stdout",
          "text": [
            "Final column remaining: Index(['Cz'], dtype='object')\n"
          ]
        }
      ],
      "source": [
        "# Final dataset with one column remaining\n",
        "print(\"Final column remaining:\", X.columns)"
      ]
    },
    {
      "cell_type": "markdown",
      "metadata": {
        "id": "JaVPh9YyE60k"
      },
      "source": [
        "for one and retern each time"
      ]
    },
    {
      "cell_type": "code",
      "execution_count": null,
      "metadata": {
        "id": "yaXdpMZqAQBM"
      },
      "outputs": [],
      "source": [
        "data.dropna(subset=[data.columns[-1]], inplace=True)"
      ]
    },
    {
      "cell_type": "code",
      "execution_count": null,
      "metadata": {
        "id": "eV1hFFe5jeGx"
      },
      "outputs": [],
      "source": [
        "# Assuming the last column is the target variable and the rest are features\n",
        "X = data.iloc[:, :-1]  # Features\n",
        "y = data.iloc[:, -1]   # Target variable"
      ]
    },
    {
      "cell_type": "code",
      "execution_count": null,
      "metadata": {
        "id": "XsK5gq53E-tW"
      },
      "outputs": [],
      "source": [
        "# Function to calculate accuracy after removing each column\n",
        "def calculate_accuracy_with_removal(X, y):\n",
        "    initial_accuracy = 0\n",
        "    max_accuracy = 0\n",
        "    best_column = None\n",
        "    accuracies = {}\n",
        "\n",
        "    for col in X.columns:\n",
        "        X_temp = X.drop(col, axis=1)\n",
        "\n",
        "        # Impute missing values\n",
        "        imputer = SimpleImputer(strategy='mean')\n",
        "        X_temp = pd.DataFrame(imputer.fit_transform(X_temp), columns=X_temp.columns)\n",
        "\n",
        "        X_train, X_test, y_train, y_test = train_test_split(X_temp, y, test_size=0.2, random_state=42)\n",
        "        clf = DecisionTreeClassifier(random_state=42)\n",
        "        clf.fit(X_train, y_train)\n",
        "        y_pred = clf.predict(X_test)\n",
        "\n",
        "        acc = accuracy_score(y_test, y_pred)\n",
        "        accuracies[col] = acc\n",
        "\n",
        "        if acc > initial_accuracy:\n",
        "            initial_accuracy = acc\n",
        "            best_column = col\n",
        "\n",
        "    return accuracies, best_column, initial_accuracy\n",
        "\n",
        "# Calculate accuracy by removing one column at a time\n",
        "accuracies, best_col, max_accuracy = calculate_accuracy_with_removal(X, y)\n",
        "\n",
        "print(\"Accuracy with each column removed:\")\n",
        "for col, acc in accuracies.items():\n",
        "    print(f\"Removed column '{col}': Accuracy = {acc}\")\n"
      ]
    },
    {
      "cell_type": "code",
      "execution_count": null,
      "metadata": {
        "colab": {
          "base_uri": "https://localhost:8080/"
        },
        "id": "HQjpMUikFRE-",
        "outputId": "f1997586-a45d-44f2-f1d3-7e167e55b98a"
      },
      "outputs": [
        {
          "output_type": "stream",
          "name": "stdout",
          "text": [
            "\n",
            "Maximum Accuracy after removing one column at a time: 0.9987494789495623 by removing 'FC4'\n"
          ]
        }
      ],
      "source": [
        "print(f\"\\nMaximum Accuracy after removing one column at a time: {max_accuracy} by removing '{best_col}'\")\n"
      ]
    },
    {
      "cell_type": "code",
      "execution_count": null,
      "metadata": {
        "colab": {
          "base_uri": "https://localhost:8080/"
        },
        "id": "iIvWetJyqOYO",
        "outputId": "95d217ac-0df2-4232-e6bc-121cfe2e8de6"
      },
      "outputs": [
        {
          "output_type": "stream",
          "name": "stdout",
          "text": [
            "Final column remaining: Index(['condition', 'Fz', 'FCz', 'Cz', 'FC3', 'FC4', 'C3', 'C4', 'CP3', 'CP4',\n",
            "       'time_ms', 'ITI', 'rejected', 'Fz_N100', 'FCz_N100', 'Cz_N100',\n",
            "       'FC3_N100', 'FC4_N100', 'C3_N100', 'C4_N100', 'CP3_N100', 'CP4_N100',\n",
            "       'Fz_P200', 'FCz_P200', 'Cz_P200', 'FC3_P200', 'FC4_P200', 'C3_P200',\n",
            "       'C4_P200', 'CP3_P200', 'CP4_P200', 'Fz_B0', 'FCz_B0', 'Cz_B0', 'FC3_B0',\n",
            "       'FC4_B0', 'C3_B0', 'C4_B0', 'CP3_B0', 'CP4_B0', 'Fz_B1', 'FCz_B1',\n",
            "       'Cz_B1', 'FC3_B1', 'FC4_B1', 'C3_B1', 'C4_B1', 'CP3_B1', 'CP4_B1',\n",
            "       ' gender', ' age', ' education'],\n",
            "      dtype='object')\n"
          ]
        }
      ],
      "source": [
        "# Final dataset with one column remaining\n",
        "print(\"Final column remaining:\", X.columns)"
      ]
    }
  ],
  "metadata": {
    "colab": {
      "provenance": []
    },
    "kernelspec": {
      "display_name": "Python 3",
      "name": "python3"
    },
    "language_info": {
      "name": "python"
    }
  },
  "nbformat": 4,
  "nbformat_minor": 0
}